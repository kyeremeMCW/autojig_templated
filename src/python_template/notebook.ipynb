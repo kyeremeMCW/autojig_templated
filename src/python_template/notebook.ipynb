{
 "cells": [
  {
   "cell_type": "markdown",
   "metadata": {},
   "source": [
    "testing coder startup script"
   ]
  },
  {
   "cell_type": "code",
   "execution_count": 2,
   "metadata": {
    "vscode": {
     "languageId": "shellscript"
    }
   },
   "outputs": [],
   "source": [
    "import os\n",
    "os.chdir('/workspaces/python-template')"
   ]
  },
  {
   "cell_type": "code",
   "execution_count": 3,
   "metadata": {
    "vscode": {
     "languageId": "shellscript"
    }
   },
   "outputs": [
    {
     "name": "stdout",
     "output_type": "stream",
     "text": [
      "Installing extension: ms-toolsai.jupyter\n",
      "Installing extension: ms-python.python\n",
      "Installing extension: ms-python.pylint\n",
      "Installing extension: editorconfig.editorconfig\n",
      "Installing extension: njpwerner.autodocstring\n",
      "Installing extension: lextudio.restructuredtext\n",
      "Installing extension: littlefoxteam.vscode-python-test-adapter\n",
      "Installing extension: tombonnike.vscode-status-bar-format-toggle\n",
      "Installing extension: usernamehw.errorlens\n",
      "Installing extension: Gruntfuggly.todo-tree\n",
      "Installing extension: eamodio.gitlens\n",
      "VS Code settings applied.\n"
     ]
    },
    {
     "name": "stderr",
     "output_type": "stream",
     "text": [
      "sh: 1: code-server: not found\n",
      "sh: 1: code-server: not found\n",
      "sh: 1: code-server: not found\n",
      "sh: 1: code-server: not found\n",
      "sh: 1: code-server: not found\n",
      "sh: 1: code-server: not found\n",
      "sh: 1: code-server: not found\n",
      "sh: 1: code-server: not found\n",
      "sh: 1: code-server: not found\n",
      "sh: 1: code-server: not found\n",
      "sh: 1: code-server: not found\n"
     ]
    }
   ],
   "source": [
    "import json, os, sys\n",
    "# Define the possible paths for the devcontainer.json file\n",
    "POSSIBLE_PATHS = ['.devcontainer.json', '.devcontainer/devcontainer.json']\n",
    "\n",
    "# Find the actual path of the devcontainer.json file\n",
    "DEVCONTAINER_FILE = None\n",
    "for path in POSSIBLE_PATHS:\n",
    "    if os.path.isfile(path):\n",
    "        DEVCONTAINER_FILE = path\n",
    "        break\n",
    "\n",
    "if not DEVCONTAINER_FILE:\n",
    "    print('devcontainer.json file not found in the expected locations.')\n",
    "    sys.exit(1)\n",
    "\n",
    "# Load the devcontainer.json file\n",
    "with open(DEVCONTAINER_FILE) as f:\n",
    "    data = json.load(f).get('customizations',{}).get('vscode',{})\n",
    "\n",
    "# Apply VS Code extensions\n",
    "extensions = data.get('extensions', [])\n",
    "if extensions:\n",
    "    for extension in extensions:\n",
    "        print(f'Installing extension: {extension}')\n",
    "        os.system(f'code-server --install-extension {extension}')\n",
    "else:\n",
    "    print(f'No extensions found in {DEVCONTAINER_FILE}')\n",
    "\n",
    "# Apply VS Code settings\n",
    "settings = data.get('settings', {})\n",
    "if settings:\n",
    "    CONFIG_DIR = '${HOME}/.vscode-server/data/Machine'\n",
    "    os.makedirs(CONFIG_DIR, exist_ok=True)\n",
    "    with open(f'{CONFIG_DIR}/settings.json', 'w') as f:\n",
    "        json.dump(settings, f, indent=4)\n",
    "    print('VS Code settings applied.')\n",
    "else:\n",
    "    print(f'No settings found in {DEVCONTAINER_FILE}')"
   ]
  },
  {
   "cell_type": "code",
   "execution_count": 2,
   "metadata": {
    "vscode": {
     "languageId": "shellscript"
    }
   },
   "outputs": [
    {
     "name": "stdout",
     "output_type": "stream",
     "text": [
      "/workspaces/python-template\n",
      "Installing extensions on Coder: barrettMCW∕python-template...\n",
      "Extension 'ms-toolsai.jupyter' v2024.3.0 is already installed. Use '--force' option to update to latest version or provide '@<version>' to install a specific version, for example: 'ms-toolsai.jupyter@1.2.3'.\n",
      "Installing extensions on Coder: barrettMCW∕python-template...\n",
      "Extension 'ms-python.python' v2024.4.0 is already installed. Use '--force' option to update to latest version or provide '@<version>' to install a specific version, for example: 'ms-python.python@1.2.3'.\n",
      "Installing extensions on Coder: barrettMCW∕python-template...\n",
      "Extension 'ms-python.pylint' v2023.10.1 is already installed. Use '--force' option to update to latest version or provide '@<version>' to install a specific version, for example: 'ms-python.pylint@1.2.3'.\n",
      "Installing extensions on Coder: barrettMCW∕python-template...\n",
      "Extension 'ms-python.black-formatter' v2024.2.0 is already installed. Use '--force' option to update to latest version or provide '@<version>' to install a specific version, for example: 'ms-python.black-formatter@1.2.3'.\n",
      "Installing extensions on Coder: barrettMCW∕python-template...\n",
      "Extension 'ms-python.isort' v2023.10.1 is already installed. Use '--force' option to update to latest version or provide '@<version>' to install a specific version, for example: 'ms-python.isort@1.2.3'.\n",
      "Installing extensions on Coder: barrettMCW∕python-template...\n",
      "Extension 'ms-python.mypy-type-checker' v2023.6.0 is already installed. Use '--force' option to update to latest version or provide '@<version>' to install a specific version, for example: 'ms-python.mypy-type-checker@1.2.3'.\n",
      "Installing extensions on Coder: barrettMCW∕python-template...\n",
      "Extension 'editorconfig.editorconfig' v0.16.4 is already installed. Use '--force' option to update to latest version or provide '@<version>' to install a specific version, for example: 'editorconfig.editorconfig@1.2.3'.\n",
      "Installing extensions on Coder: barrettMCW∕python-template...\n",
      "Extension 'njpwerner.autodocstring' v0.6.1 is already installed. Use '--force' option to update to latest version or provide '@<version>' to install a specific version, for example: 'njpwerner.autodocstring@1.2.3'.\n",
      "Installing extensions on Coder: barrettMCW∕python-template...\n",
      "Extension 'lextudio.restructuredtext' v189.3.0 is already installed. Use '--force' option to update to latest version or provide '@<version>' to install a specific version, for example: 'lextudio.restructuredtext@1.2.3'.\n",
      "Installing extensions on Coder: barrettMCW∕python-template...\n",
      "Extension 'littlefoxteam.vscode-python-test-adapter' v0.8.2 is already installed. Use '--force' option to update to latest version or provide '@<version>' to install a specific version, for example: 'littlefoxteam.vscode-python-test-adapter@1.2.3'.\n",
      "\"settings\":{\n",
      "\"terminal.integrated.defaultProfile.linux\":\"bash\",\n",
      "\"python.defaultInterpreterPath\":\"/usr/bin/python3\",\n",
      "\"autoDocstring.docstringFormat\":\"sphinx\"\n",
      "}\n"
     ]
    }
   ],
   "source": [
    "#!/bin/bash\n",
    "cd /workspaces/*/.git/..\n",
    "echo $PWD\n",
    "# Define possible locations for devcontainer.json\n",
    "devcontainer_locations=(\"./.devcontainer.json\" \"./.devcontainer/devcontainer.json\")\n",
    "\n",
    "# Find the actual location of devcontainer.json\n",
    "for location in \"${devcontainer_locations[@]}\"; do\n",
    "    if [[ -f \"$location\" ]]; then\n",
    "        devcontainer_path=\"$location\"\n",
    "        break\n",
    "    fi\n",
    "done\n",
    "\n",
    "# Check if devcontainer.json was found\n",
    "if [[ -z \"$devcontainer_path\" ]]; then\n",
    "    echo \"devcontainer.json not found in the expected locations.\"\n",
    "    exit 1\n",
    "fi\n",
    "\n",
    "grep '\"extensions\":' -A 10 \"$devcontainer_path\" | grep -Eo '\"[^\"]+\"' | tr -d '\"' | tr -d ','| while read -r extension; do\n",
    "    [[ $extension == 'extensions' ]] && continue\n",
    "    code --install-extension $extension\n",
    "done\n",
    "\n",
    "sed -n '/\"settings\": {/,/},/p' \"$devcontainer_path\" | sed 's/},/}/g' | tr -d ' '\n"
   ]
  },
  {
   "cell_type": "code",
   "execution_count": null,
   "metadata": {
    "vscode": {
     "languageId": "shellscript"
    }
   },
   "outputs": [],
   "source": [
    "#!/bin/bash\n",
    "\n",
    "# Define the jq binary location\n",
    "jq_binary=\"./jq\"\n",
    "\n",
    "# Check if jq is available, if not, download it\n",
    "if [ ! -f \"$jq_binary\" ]; then\n",
    "    echo \"jq is not installed. Downloading jq binary...\"\n",
    "    curl -L -o \"$jq_binary\" \"https://github.com/stedolan/jq/releases/download/jq-1.6/jq-linux64\"\n",
    "    chmod +x \"$jq_binary\"\n",
    "fi\n",
    "\n",
    "# Define possible locations for devcontainer.json\n",
    "devcontainer_locations=(\"./.devcontainer.json\" \"./devcontainer/devcontainer.json\")\n",
    "\n",
    "# Find the actual location of devcontainer.json\n",
    "for location in \"${devcontainer_locations[@]}\"; do\n",
    "    if [[ -f \"$location\" ]]; then\n",
    "        devcontainer_path=\"$location\"\n",
    "        break\n",
    "    fi\n",
    "done\n",
    "\n",
    "# Check if devcontainer.json was found\n",
    "if [[ -z \"$devcontainer_path\" ]]; then\n",
    "    echo \"devcontainer.json not found in the expected locations.\"\n",
    "    exit 1\n",
    "fi\n",
    "\n",
    "# Extract and install extensions\n",
    "extensions=$(\"$jq_binary\" -r '.customizations.vscode.extensions[]' \"$devcontainer_path\")\n",
    "for extension in $extensions; do\n",
    "    code --install-extension \"$extension\"\n",
    "done\n",
    "\n",
    "# Extract settings JSON\n",
    "\"$jq_binary\" '.customizations.vscode.settings' \"$devcontainer_path\" > settings.json\n",
    "\n",
    "echo \"Extensions installed and settings JSON extracted to settings.json\"\n",
    "\n"
   ]
  }
 ],
 "metadata": {
  "kernelspec": {
   "display_name": "Bash",
   "language": "bash",
   "name": "bash"
  },
  "language_info": {
   "codemirror_mode": "shell",
   "file_extension": ".sh",
   "mimetype": "text/x-sh",
   "name": "bash"
  }
 },
 "nbformat": 4,
 "nbformat_minor": 2
}
